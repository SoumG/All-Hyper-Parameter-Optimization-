{
 "cells": [
  {
   "cell_type": "markdown",
   "id": "4d6dd776",
   "metadata": {},
   "source": [
    "### All Techniques Of Hyper Parameter Optimization\n",
    "\n",
    "`GridSearchCV\n",
    "\n",
    "``RandomizedSearchCV\n",
    "\n",
    "``Bayesian Optimization -Automate Hyperparameter Tuning (Hyperopt)\n",
    "\n",
    "``Sequential Model Based Optimization(Tuning a scikit-learn estimator with skopt)\n",
    "\n",
    "``Optuna- Automate Hyperparameter Tuning\n",
    "\n",
    "``Genetic Algorithms (TPOT Classifier)"
   ]
  },
  {
   "cell_type": "markdown",
   "id": "8f153bb8",
   "metadata": {},
   "source": [
    "### References\n",
    "\n",
    "$ https://github.com/fmfn/BayesianOptimization\n",
    " https://github.com/hyperopt/hyperopt\n",
    "\n",
    "https://www.jeremyjordan.me/hyperparameter-tuning/\n",
    "\n",
    " https://optuna.org/\n",
    " https://towardsdatascience.com/hyperparameters-optimization-526348bb8e2d(By Pier Paolo Ippolito )\n",
    " https://scikit-optimize.github.io/stable/auto_examples/hyperparameter-optimization.html"
   ]
  },
  {
   "cell_type": "code",
   "execution_count": 1,
   "id": "113cf00e",
   "metadata": {},
   "outputs": [],
   "source": [
    "import warnings\n",
    "warnings.filterwarnings('ignore')"
   ]
  },
  {
   "cell_type": "code",
   "execution_count": 8,
   "id": "c6a1ddd6",
   "metadata": {},
   "outputs": [
    {
     "data": {
      "text/html": [
       "<div>\n",
       "<style scoped>\n",
       "    .dataframe tbody tr th:only-of-type {\n",
       "        vertical-align: middle;\n",
       "    }\n",
       "\n",
       "    .dataframe tbody tr th {\n",
       "        vertical-align: top;\n",
       "    }\n",
       "\n",
       "    .dataframe thead th {\n",
       "        text-align: right;\n",
       "    }\n",
       "</style>\n",
       "<table border=\"1\" class=\"dataframe\">\n",
       "  <thead>\n",
       "    <tr style=\"text-align: right;\">\n",
       "      <th></th>\n",
       "      <th>Pregnancies</th>\n",
       "      <th>Glucose</th>\n",
       "      <th>BloodPressure</th>\n",
       "      <th>SkinThickness</th>\n",
       "      <th>Insulin</th>\n",
       "      <th>BMI</th>\n",
       "      <th>DiabetesPedigreeFunction</th>\n",
       "      <th>Age</th>\n",
       "      <th>Outcome</th>\n",
       "    </tr>\n",
       "  </thead>\n",
       "  <tbody>\n",
       "    <tr>\n",
       "      <th>0</th>\n",
       "      <td>6</td>\n",
       "      <td>148</td>\n",
       "      <td>72</td>\n",
       "      <td>35</td>\n",
       "      <td>0</td>\n",
       "      <td>33.6</td>\n",
       "      <td>0.627</td>\n",
       "      <td>50</td>\n",
       "      <td>1</td>\n",
       "    </tr>\n",
       "    <tr>\n",
       "      <th>1</th>\n",
       "      <td>1</td>\n",
       "      <td>85</td>\n",
       "      <td>66</td>\n",
       "      <td>29</td>\n",
       "      <td>0</td>\n",
       "      <td>26.6</td>\n",
       "      <td>0.351</td>\n",
       "      <td>31</td>\n",
       "      <td>0</td>\n",
       "    </tr>\n",
       "    <tr>\n",
       "      <th>2</th>\n",
       "      <td>8</td>\n",
       "      <td>183</td>\n",
       "      <td>64</td>\n",
       "      <td>0</td>\n",
       "      <td>0</td>\n",
       "      <td>23.3</td>\n",
       "      <td>0.672</td>\n",
       "      <td>32</td>\n",
       "      <td>1</td>\n",
       "    </tr>\n",
       "    <tr>\n",
       "      <th>3</th>\n",
       "      <td>1</td>\n",
       "      <td>89</td>\n",
       "      <td>66</td>\n",
       "      <td>23</td>\n",
       "      <td>94</td>\n",
       "      <td>28.1</td>\n",
       "      <td>0.167</td>\n",
       "      <td>21</td>\n",
       "      <td>0</td>\n",
       "    </tr>\n",
       "    <tr>\n",
       "      <th>4</th>\n",
       "      <td>0</td>\n",
       "      <td>137</td>\n",
       "      <td>40</td>\n",
       "      <td>35</td>\n",
       "      <td>168</td>\n",
       "      <td>43.1</td>\n",
       "      <td>2.288</td>\n",
       "      <td>33</td>\n",
       "      <td>1</td>\n",
       "    </tr>\n",
       "  </tbody>\n",
       "</table>\n",
       "</div>"
      ],
      "text/plain": [
       "   Pregnancies  Glucose  BloodPressure  SkinThickness  Insulin   BMI  \\\n",
       "0            6      148             72             35        0  33.6   \n",
       "1            1       85             66             29        0  26.6   \n",
       "2            8      183             64              0        0  23.3   \n",
       "3            1       89             66             23       94  28.1   \n",
       "4            0      137             40             35      168  43.1   \n",
       "\n",
       "   DiabetesPedigreeFunction  Age  Outcome  \n",
       "0                     0.627   50        1  \n",
       "1                     0.351   31        0  \n",
       "2                     0.672   32        1  \n",
       "3                     0.167   21        0  \n",
       "4                     2.288   33        1  "
      ]
     },
     "execution_count": 8,
     "metadata": {},
     "output_type": "execute_result"
    }
   ],
   "source": [
    "import pandas as pd\n",
    "df=pd.read_csv(r'C:\\Users\\soumg\\Desktop\\diabetes.csv')\n",
    "df.head()"
   ]
  },
  {
   "cell_type": "code",
   "execution_count": 9,
   "id": "d45c3193",
   "metadata": {},
   "outputs": [
    {
     "data": {
      "text/html": [
       "<div>\n",
       "<style scoped>\n",
       "    .dataframe tbody tr th:only-of-type {\n",
       "        vertical-align: middle;\n",
       "    }\n",
       "\n",
       "    .dataframe tbody tr th {\n",
       "        vertical-align: top;\n",
       "    }\n",
       "\n",
       "    .dataframe thead th {\n",
       "        text-align: right;\n",
       "    }\n",
       "</style>\n",
       "<table border=\"1\" class=\"dataframe\">\n",
       "  <thead>\n",
       "    <tr style=\"text-align: right;\">\n",
       "      <th></th>\n",
       "      <th>Pregnancies</th>\n",
       "      <th>Glucose</th>\n",
       "      <th>BloodPressure</th>\n",
       "      <th>SkinThickness</th>\n",
       "      <th>Insulin</th>\n",
       "      <th>BMI</th>\n",
       "      <th>DiabetesPedigreeFunction</th>\n",
       "      <th>Age</th>\n",
       "      <th>Outcome</th>\n",
       "    </tr>\n",
       "  </thead>\n",
       "  <tbody>\n",
       "    <tr>\n",
       "      <th>0</th>\n",
       "      <td>6</td>\n",
       "      <td>148.0</td>\n",
       "      <td>72</td>\n",
       "      <td>35</td>\n",
       "      <td>0</td>\n",
       "      <td>33.6</td>\n",
       "      <td>0.627</td>\n",
       "      <td>50</td>\n",
       "      <td>1</td>\n",
       "    </tr>\n",
       "    <tr>\n",
       "      <th>1</th>\n",
       "      <td>1</td>\n",
       "      <td>85.0</td>\n",
       "      <td>66</td>\n",
       "      <td>29</td>\n",
       "      <td>0</td>\n",
       "      <td>26.6</td>\n",
       "      <td>0.351</td>\n",
       "      <td>31</td>\n",
       "      <td>0</td>\n",
       "    </tr>\n",
       "    <tr>\n",
       "      <th>2</th>\n",
       "      <td>8</td>\n",
       "      <td>183.0</td>\n",
       "      <td>64</td>\n",
       "      <td>0</td>\n",
       "      <td>0</td>\n",
       "      <td>23.3</td>\n",
       "      <td>0.672</td>\n",
       "      <td>32</td>\n",
       "      <td>1</td>\n",
       "    </tr>\n",
       "    <tr>\n",
       "      <th>3</th>\n",
       "      <td>1</td>\n",
       "      <td>89.0</td>\n",
       "      <td>66</td>\n",
       "      <td>23</td>\n",
       "      <td>94</td>\n",
       "      <td>28.1</td>\n",
       "      <td>0.167</td>\n",
       "      <td>21</td>\n",
       "      <td>0</td>\n",
       "    </tr>\n",
       "    <tr>\n",
       "      <th>4</th>\n",
       "      <td>0</td>\n",
       "      <td>137.0</td>\n",
       "      <td>40</td>\n",
       "      <td>35</td>\n",
       "      <td>168</td>\n",
       "      <td>43.1</td>\n",
       "      <td>2.288</td>\n",
       "      <td>33</td>\n",
       "      <td>1</td>\n",
       "    </tr>\n",
       "  </tbody>\n",
       "</table>\n",
       "</div>"
      ],
      "text/plain": [
       "   Pregnancies  Glucose  BloodPressure  SkinThickness  Insulin   BMI  \\\n",
       "0            6    148.0             72             35        0  33.6   \n",
       "1            1     85.0             66             29        0  26.6   \n",
       "2            8    183.0             64              0        0  23.3   \n",
       "3            1     89.0             66             23       94  28.1   \n",
       "4            0    137.0             40             35      168  43.1   \n",
       "\n",
       "   DiabetesPedigreeFunction  Age  Outcome  \n",
       "0                     0.627   50        1  \n",
       "1                     0.351   31        0  \n",
       "2                     0.672   32        1  \n",
       "3                     0.167   21        0  \n",
       "4                     2.288   33        1  "
      ]
     },
     "execution_count": 9,
     "metadata": {},
     "output_type": "execute_result"
    }
   ],
   "source": [
    "import numpy as np\n",
    "df['Glucose']=np.where(df['Glucose']==0,df['Glucose'].median(),df['Glucose'])\n",
    "df.head()"
   ]
  },
  {
   "cell_type": "code",
   "execution_count": 11,
   "id": "2f7f3d0d",
   "metadata": {},
   "outputs": [],
   "source": [
    "#### Independent And Dependent features\n",
    "X=df.drop('Outcome',axis=1)\n",
    "y=df['Outcome']"
   ]
  },
  {
   "cell_type": "code",
   "execution_count": 12,
   "id": "812e6e6e",
   "metadata": {},
   "outputs": [
    {
     "data": {
      "text/html": [
       "<div>\n",
       "<style scoped>\n",
       "    .dataframe tbody tr th:only-of-type {\n",
       "        vertical-align: middle;\n",
       "    }\n",
       "\n",
       "    .dataframe tbody tr th {\n",
       "        vertical-align: top;\n",
       "    }\n",
       "\n",
       "    .dataframe thead th {\n",
       "        text-align: right;\n",
       "    }\n",
       "</style>\n",
       "<table border=\"1\" class=\"dataframe\">\n",
       "  <thead>\n",
       "    <tr style=\"text-align: right;\">\n",
       "      <th></th>\n",
       "      <th>Pregnancies</th>\n",
       "      <th>Glucose</th>\n",
       "      <th>BloodPressure</th>\n",
       "      <th>SkinThickness</th>\n",
       "      <th>Insulin</th>\n",
       "      <th>BMI</th>\n",
       "      <th>DiabetesPedigreeFunction</th>\n",
       "      <th>Age</th>\n",
       "    </tr>\n",
       "  </thead>\n",
       "  <tbody>\n",
       "    <tr>\n",
       "      <th>0</th>\n",
       "      <td>6</td>\n",
       "      <td>148.0</td>\n",
       "      <td>72</td>\n",
       "      <td>35</td>\n",
       "      <td>0</td>\n",
       "      <td>33.6</td>\n",
       "      <td>0.627</td>\n",
       "      <td>50</td>\n",
       "    </tr>\n",
       "    <tr>\n",
       "      <th>1</th>\n",
       "      <td>1</td>\n",
       "      <td>85.0</td>\n",
       "      <td>66</td>\n",
       "      <td>29</td>\n",
       "      <td>0</td>\n",
       "      <td>26.6</td>\n",
       "      <td>0.351</td>\n",
       "      <td>31</td>\n",
       "    </tr>\n",
       "    <tr>\n",
       "      <th>2</th>\n",
       "      <td>8</td>\n",
       "      <td>183.0</td>\n",
       "      <td>64</td>\n",
       "      <td>0</td>\n",
       "      <td>0</td>\n",
       "      <td>23.3</td>\n",
       "      <td>0.672</td>\n",
       "      <td>32</td>\n",
       "    </tr>\n",
       "    <tr>\n",
       "      <th>3</th>\n",
       "      <td>1</td>\n",
       "      <td>89.0</td>\n",
       "      <td>66</td>\n",
       "      <td>23</td>\n",
       "      <td>94</td>\n",
       "      <td>28.1</td>\n",
       "      <td>0.167</td>\n",
       "      <td>21</td>\n",
       "    </tr>\n",
       "    <tr>\n",
       "      <th>4</th>\n",
       "      <td>0</td>\n",
       "      <td>137.0</td>\n",
       "      <td>40</td>\n",
       "      <td>35</td>\n",
       "      <td>168</td>\n",
       "      <td>43.1</td>\n",
       "      <td>2.288</td>\n",
       "      <td>33</td>\n",
       "    </tr>\n",
       "    <tr>\n",
       "      <th>...</th>\n",
       "      <td>...</td>\n",
       "      <td>...</td>\n",
       "      <td>...</td>\n",
       "      <td>...</td>\n",
       "      <td>...</td>\n",
       "      <td>...</td>\n",
       "      <td>...</td>\n",
       "      <td>...</td>\n",
       "    </tr>\n",
       "    <tr>\n",
       "      <th>763</th>\n",
       "      <td>10</td>\n",
       "      <td>101.0</td>\n",
       "      <td>76</td>\n",
       "      <td>48</td>\n",
       "      <td>180</td>\n",
       "      <td>32.9</td>\n",
       "      <td>0.171</td>\n",
       "      <td>63</td>\n",
       "    </tr>\n",
       "    <tr>\n",
       "      <th>764</th>\n",
       "      <td>2</td>\n",
       "      <td>122.0</td>\n",
       "      <td>70</td>\n",
       "      <td>27</td>\n",
       "      <td>0</td>\n",
       "      <td>36.8</td>\n",
       "      <td>0.340</td>\n",
       "      <td>27</td>\n",
       "    </tr>\n",
       "    <tr>\n",
       "      <th>765</th>\n",
       "      <td>5</td>\n",
       "      <td>121.0</td>\n",
       "      <td>72</td>\n",
       "      <td>23</td>\n",
       "      <td>112</td>\n",
       "      <td>26.2</td>\n",
       "      <td>0.245</td>\n",
       "      <td>30</td>\n",
       "    </tr>\n",
       "    <tr>\n",
       "      <th>766</th>\n",
       "      <td>1</td>\n",
       "      <td>126.0</td>\n",
       "      <td>60</td>\n",
       "      <td>0</td>\n",
       "      <td>0</td>\n",
       "      <td>30.1</td>\n",
       "      <td>0.349</td>\n",
       "      <td>47</td>\n",
       "    </tr>\n",
       "    <tr>\n",
       "      <th>767</th>\n",
       "      <td>1</td>\n",
       "      <td>93.0</td>\n",
       "      <td>70</td>\n",
       "      <td>31</td>\n",
       "      <td>0</td>\n",
       "      <td>30.4</td>\n",
       "      <td>0.315</td>\n",
       "      <td>23</td>\n",
       "    </tr>\n",
       "  </tbody>\n",
       "</table>\n",
       "<p>768 rows × 8 columns</p>\n",
       "</div>"
      ],
      "text/plain": [
       "     Pregnancies  Glucose  BloodPressure  SkinThickness  Insulin   BMI  \\\n",
       "0              6    148.0             72             35        0  33.6   \n",
       "1              1     85.0             66             29        0  26.6   \n",
       "2              8    183.0             64              0        0  23.3   \n",
       "3              1     89.0             66             23       94  28.1   \n",
       "4              0    137.0             40             35      168  43.1   \n",
       "..           ...      ...            ...            ...      ...   ...   \n",
       "763           10    101.0             76             48      180  32.9   \n",
       "764            2    122.0             70             27        0  36.8   \n",
       "765            5    121.0             72             23      112  26.2   \n",
       "766            1    126.0             60              0        0  30.1   \n",
       "767            1     93.0             70             31        0  30.4   \n",
       "\n",
       "     DiabetesPedigreeFunction  Age  \n",
       "0                       0.627   50  \n",
       "1                       0.351   31  \n",
       "2                       0.672   32  \n",
       "3                       0.167   21  \n",
       "4                       2.288   33  \n",
       "..                        ...  ...  \n",
       "763                     0.171   63  \n",
       "764                     0.340   27  \n",
       "765                     0.245   30  \n",
       "766                     0.349   47  \n",
       "767                     0.315   23  \n",
       "\n",
       "[768 rows x 8 columns]"
      ]
     },
     "execution_count": 12,
     "metadata": {},
     "output_type": "execute_result"
    }
   ],
   "source": [
    "pd.DataFrame(X,columns=df.columns[:-1])"
   ]
  },
  {
   "cell_type": "code",
   "execution_count": 13,
   "id": "0e881a95",
   "metadata": {},
   "outputs": [],
   "source": [
    "#### Train Test Split\n",
    "from sklearn.model_selection import train_test_split\n",
    "X_train,X_test,y_train,y_test=train_test_split(X,y,test_size=0.20,random_state=0)"
   ]
  },
  {
   "cell_type": "code",
   "execution_count": 14,
   "id": "f79bf139",
   "metadata": {},
   "outputs": [],
   "source": [
    "from sklearn.ensemble import RandomForestClassifier\n",
    "rf_classifier=RandomForestClassifier(n_estimators=10).fit(X_train,y_train)\n",
    "prediction=rf_classifier.predict(X_test)"
   ]
  },
  {
   "cell_type": "code",
   "execution_count": 15,
   "id": "0635291d",
   "metadata": {},
   "outputs": [
    {
     "data": {
      "text/plain": [
       "0    500\n",
       "1    268\n",
       "Name: Outcome, dtype: int64"
      ]
     },
     "execution_count": 15,
     "metadata": {},
     "output_type": "execute_result"
    }
   ],
   "source": [
    "y.value_counts()"
   ]
  },
  {
   "cell_type": "code",
   "execution_count": 16,
   "id": "00ed0122",
   "metadata": {},
   "outputs": [
    {
     "name": "stdout",
     "output_type": "stream",
     "text": [
      "[[89 18]\n",
      " [21 26]]\n",
      "0.7467532467532467\n",
      "              precision    recall  f1-score   support\n",
      "\n",
      "           0       0.81      0.83      0.82       107\n",
      "           1       0.59      0.55      0.57        47\n",
      "\n",
      "    accuracy                           0.75       154\n",
      "   macro avg       0.70      0.69      0.70       154\n",
      "weighted avg       0.74      0.75      0.74       154\n",
      "\n"
     ]
    }
   ],
   "source": [
    "from sklearn.metrics import confusion_matrix,classification_report,accuracy_score\n",
    "print(confusion_matrix(y_test,prediction))\n",
    "print(accuracy_score(y_test,prediction))\n",
    "print(classification_report(y_test,prediction))"
   ]
  },
  {
   "cell_type": "markdown",
   "id": "50366e0a",
   "metadata": {},
   "source": [
    "#### The main parameters used by a Random Forest Classifier are:\n",
    "\n",
    "* criterion = the function used to evaluate the quality of a split.\n",
    "* max_depth = maximum number of levels allowed in each tree.\n",
    "* max_features = maximum number of features considered when splitting a node.\n",
    "* min_samples_leaf = minimum number of samples which can be stored in a tree leaf.\n",
    "* min_samples_split = minimum number of samples necessary in a node to cause node splitting.\n",
    "* n_estimators = number of trees in the ensamble."
   ]
  },
  {
   "cell_type": "code",
   "execution_count": 17,
   "id": "e76adfad",
   "metadata": {},
   "outputs": [
    {
     "name": "stdout",
     "output_type": "stream",
     "text": [
      "[[98  9]\n",
      " [18 29]]\n",
      "0.8246753246753247\n",
      "              precision    recall  f1-score   support\n",
      "\n",
      "           0       0.84      0.92      0.88       107\n",
      "           1       0.76      0.62      0.68        47\n",
      "\n",
      "    accuracy                           0.82       154\n",
      "   macro avg       0.80      0.77      0.78       154\n",
      "weighted avg       0.82      0.82      0.82       154\n",
      "\n"
     ]
    }
   ],
   "source": [
    "### Manual Hyperparameter Tuning\n",
    "model=RandomForestClassifier(n_estimators=300,criterion='entropy',\n",
    "                             max_features='sqrt',min_samples_leaf=10,random_state=100).fit(X_train,y_train)\n",
    "predictions=model.predict(X_test)\n",
    "print(confusion_matrix(y_test,predictions))\n",
    "print(accuracy_score(y_test,predictions))\n",
    "print(classification_report(y_test,predictions))"
   ]
  },
  {
   "cell_type": "markdown",
   "id": "33c10f9a",
   "metadata": {},
   "source": [
    "### Randomized Search Cv"
   ]
  },
  {
   "cell_type": "code",
   "execution_count": 18,
   "id": "849853e5",
   "metadata": {},
   "outputs": [
    {
     "name": "stdout",
     "output_type": "stream",
     "text": [
      "{'n_estimators': [200, 400, 600, 800, 1000, 1200, 1400, 1600, 1800, 2000], 'max_features': ['auto', 'sqrt', 'log2'], 'max_depth': [10, 120, 230, 340, 450, 560, 670, 780, 890, 1000], 'min_samples_split': [2, 5, 10, 14], 'min_samples_leaf': [1, 2, 4, 6, 8], 'criterion': ['entropy', 'gini']}\n"
     ]
    }
   ],
   "source": [
    "import numpy as np\n",
    "from sklearn.model_selection import RandomizedSearchCV\n",
    "# Number of trees in random forest\n",
    "n_estimators = [int(x) for x in np.linspace(start = 200, stop = 2000, num = 10)]\n",
    "# Number of features to consider at every split\n",
    "max_features = ['auto', 'sqrt','log2']\n",
    "# Maximum number of levels in tree\n",
    "max_depth = [int(x) for x in np.linspace(10, 1000,10)]\n",
    "# Minimum number of samples required to split a node\n",
    "min_samples_split = [2, 5, 10,14]\n",
    "# Minimum number of samples required at each leaf node\n",
    "min_samples_leaf = [1, 2, 4,6,8]\n",
    "# Create the random grid\n",
    "random_grid = {'n_estimators': n_estimators,\n",
    "               'max_features': max_features,\n",
    "               'max_depth': max_depth,\n",
    "               'min_samples_split': min_samples_split,\n",
    "               'min_samples_leaf': min_samples_leaf,\n",
    "              'criterion':['entropy','gini']}\n",
    "print(random_grid)"
   ]
  },
  {
   "cell_type": "code",
   "execution_count": 19,
   "id": "a9d30265",
   "metadata": {},
   "outputs": [
    {
     "name": "stdout",
     "output_type": "stream",
     "text": [
      "Fitting 3 folds for each of 100 candidates, totalling 300 fits\n"
     ]
    },
    {
     "name": "stderr",
     "output_type": "stream",
     "text": [
      "[Parallel(n_jobs=-1)]: Using backend LokyBackend with 4 concurrent workers.\n",
      "[Parallel(n_jobs=-1)]: Done  33 tasks      | elapsed:   23.0s\n",
      "[Parallel(n_jobs=-1)]: Done 154 tasks      | elapsed:  1.6min\n",
      "[Parallel(n_jobs=-1)]: Done 300 out of 300 | elapsed:  3.1min finished\n"
     ]
    },
    {
     "data": {
      "text/plain": [
       "RandomizedSearchCV(cv=3, estimator=RandomForestClassifier(), n_iter=100,\n",
       "                   n_jobs=-1,\n",
       "                   param_distributions={'criterion': ['entropy', 'gini'],\n",
       "                                        'max_depth': [10, 120, 230, 340, 450,\n",
       "                                                      560, 670, 780, 890,\n",
       "                                                      1000],\n",
       "                                        'max_features': ['auto', 'sqrt',\n",
       "                                                         'log2'],\n",
       "                                        'min_samples_leaf': [1, 2, 4, 6, 8],\n",
       "                                        'min_samples_split': [2, 5, 10, 14],\n",
       "                                        'n_estimators': [200, 400, 600, 800,\n",
       "                                                         1000, 1200, 1400, 1600,\n",
       "                                                         1800, 2000]},\n",
       "                   random_state=100, verbose=2)"
      ]
     },
     "execution_count": 19,
     "metadata": {},
     "output_type": "execute_result"
    }
   ],
   "source": [
    "rf=RandomForestClassifier()\n",
    "rf_randomcv=RandomizedSearchCV(estimator=rf,param_distributions=random_grid,n_iter=100,cv=3,verbose=2,\n",
    "                               random_state=100,n_jobs=-1)\n",
    "### fit the randomized model\n",
    "rf_randomcv.fit(X_train,y_train)"
   ]
  },
  {
   "cell_type": "code",
   "execution_count": 20,
   "id": "118468c9",
   "metadata": {},
   "outputs": [
    {
     "data": {
      "text/plain": [
       "{'n_estimators': 1400,\n",
       " 'min_samples_split': 2,\n",
       " 'min_samples_leaf': 1,\n",
       " 'max_features': 'sqrt',\n",
       " 'max_depth': 230,\n",
       " 'criterion': 'gini'}"
      ]
     },
     "execution_count": 20,
     "metadata": {},
     "output_type": "execute_result"
    }
   ],
   "source": [
    "rf_randomcv.best_params_"
   ]
  },
  {
   "cell_type": "code",
   "execution_count": 21,
   "id": "bfccf6e3",
   "metadata": {},
   "outputs": [
    {
     "data": {
      "text/plain": [
       "RandomizedSearchCV(cv=3, estimator=RandomForestClassifier(), n_iter=100,\n",
       "                   n_jobs=-1,\n",
       "                   param_distributions={'criterion': ['entropy', 'gini'],\n",
       "                                        'max_depth': [10, 120, 230, 340, 450,\n",
       "                                                      560, 670, 780, 890,\n",
       "                                                      1000],\n",
       "                                        'max_features': ['auto', 'sqrt',\n",
       "                                                         'log2'],\n",
       "                                        'min_samples_leaf': [1, 2, 4, 6, 8],\n",
       "                                        'min_samples_split': [2, 5, 10, 14],\n",
       "                                        'n_estimators': [200, 400, 600, 800,\n",
       "                                                         1000, 1200, 1400, 1600,\n",
       "                                                         1800, 2000]},\n",
       "                   random_state=100, verbose=2)"
      ]
     },
     "execution_count": 21,
     "metadata": {},
     "output_type": "execute_result"
    }
   ],
   "source": [
    "rf_randomcv"
   ]
  },
  {
   "cell_type": "code",
   "execution_count": 22,
   "id": "469d1125",
   "metadata": {},
   "outputs": [],
   "source": [
    "best_random_grid=rf_randomcv.best_estimator_"
   ]
  },
  {
   "cell_type": "code",
   "execution_count": 24,
   "id": "1dddb629",
   "metadata": {},
   "outputs": [
    {
     "name": "stdout",
     "output_type": "stream",
     "text": [
      "[[94 13]\n",
      " [14 33]]\n",
      "Accuracy Score 0.8246753246753247\n",
      "Classification report:               precision    recall  f1-score   support\n",
      "\n",
      "           0       0.87      0.88      0.87       107\n",
      "           1       0.72      0.70      0.71        47\n",
      "\n",
      "    accuracy                           0.82       154\n",
      "   macro avg       0.79      0.79      0.79       154\n",
      "weighted avg       0.82      0.82      0.82       154\n",
      "\n"
     ]
    }
   ],
   "source": [
    "from sklearn.metrics import accuracy_score\n",
    "y_pred=best_random_grid.predict(X_test)\n",
    "print(confusion_matrix(y_test,y_pred))\n",
    "print(\"Accuracy Score {}\".format(accuracy_score(y_test,y_pred)))\n",
    "print(\"Classification report: {}\".format(classification_report(y_test,y_pred)))"
   ]
  },
  {
   "cell_type": "markdown",
   "id": "44007fb1",
   "metadata": {},
   "source": [
    "### GridSearch CV"
   ]
  },
  {
   "cell_type": "code",
   "execution_count": 25,
   "id": "0ed332d9",
   "metadata": {},
   "outputs": [
    {
     "data": {
      "text/plain": [
       "{'n_estimators': 1400,\n",
       " 'min_samples_split': 2,\n",
       " 'min_samples_leaf': 1,\n",
       " 'max_features': 'sqrt',\n",
       " 'max_depth': 230,\n",
       " 'criterion': 'gini'}"
      ]
     },
     "execution_count": 25,
     "metadata": {},
     "output_type": "execute_result"
    }
   ],
   "source": [
    "rf_randomcv.best_params_"
   ]
  },
  {
   "cell_type": "code",
   "execution_count": 26,
   "id": "953323e3",
   "metadata": {},
   "outputs": [
    {
     "name": "stdout",
     "output_type": "stream",
     "text": [
      "{'criterion': ['gini'], 'max_depth': [230], 'max_features': ['sqrt'], 'min_samples_leaf': [1, 3, 5], 'min_samples_split': [0, 1, 2, 3, 4], 'n_estimators': [1200, 1300, 1400, 1500, 1600]}\n"
     ]
    }
   ],
   "source": [
    "from sklearn.model_selection import GridSearchCV\n",
    "\n",
    "param_grid = {\n",
    "    'criterion': [rf_randomcv.best_params_['criterion']],\n",
    "    'max_depth': [rf_randomcv.best_params_['max_depth']],\n",
    "    'max_features': [rf_randomcv.best_params_['max_features']],\n",
    "    'min_samples_leaf': [rf_randomcv.best_params_['min_samples_leaf'], \n",
    "                         rf_randomcv.best_params_['min_samples_leaf']+2, \n",
    "                         rf_randomcv.best_params_['min_samples_leaf'] + 4],\n",
    "    'min_samples_split': [rf_randomcv.best_params_['min_samples_split'] - 2,\n",
    "                          rf_randomcv.best_params_['min_samples_split'] - 1,\n",
    "                          rf_randomcv.best_params_['min_samples_split'], \n",
    "                          rf_randomcv.best_params_['min_samples_split'] +1,\n",
    "                          rf_randomcv.best_params_['min_samples_split'] + 2],\n",
    "    'n_estimators': [rf_randomcv.best_params_['n_estimators'] - 200, rf_randomcv.best_params_['n_estimators'] - 100, \n",
    "                     rf_randomcv.best_params_['n_estimators'], \n",
    "                     rf_randomcv.best_params_['n_estimators'] + 100, rf_randomcv.best_params_['n_estimators'] + 200]\n",
    "}\n",
    "\n",
    "print(param_grid)"
   ]
  },
  {
   "cell_type": "code",
   "execution_count": 27,
   "id": "f0529761",
   "metadata": {},
   "outputs": [
    {
     "name": "stdout",
     "output_type": "stream",
     "text": [
      "Fitting 10 folds for each of 75 candidates, totalling 750 fits\n"
     ]
    },
    {
     "name": "stderr",
     "output_type": "stream",
     "text": [
      "[Parallel(n_jobs=-1)]: Using backend LokyBackend with 4 concurrent workers.\n",
      "[Parallel(n_jobs=-1)]: Done  33 tasks      | elapsed:    7.6s\n",
      "[Parallel(n_jobs=-1)]: Done 154 tasks      | elapsed:  1.1min\n",
      "[Parallel(n_jobs=-1)]: Done 357 tasks      | elapsed:  2.9min\n",
      "[Parallel(n_jobs=-1)]: Done 640 tasks      | elapsed:  5.5min\n",
      "[Parallel(n_jobs=-1)]: Done 750 out of 750 | elapsed:  7.0min finished\n"
     ]
    },
    {
     "data": {
      "text/plain": [
       "GridSearchCV(cv=10, estimator=RandomForestClassifier(), n_jobs=-1,\n",
       "             param_grid={'criterion': ['gini'], 'max_depth': [230],\n",
       "                         'max_features': ['sqrt'],\n",
       "                         'min_samples_leaf': [1, 3, 5],\n",
       "                         'min_samples_split': [0, 1, 2, 3, 4],\n",
       "                         'n_estimators': [1200, 1300, 1400, 1500, 1600]},\n",
       "             verbose=2)"
      ]
     },
     "execution_count": 27,
     "metadata": {},
     "output_type": "execute_result"
    }
   ],
   "source": [
    "#### Fit the grid_search to the data\n",
    "rf=RandomForestClassifier()\n",
    "grid_search=GridSearchCV(estimator=rf,param_grid=param_grid,cv=10,n_jobs=-1,verbose=2)\n",
    "grid_search.fit(X_train,y_train)"
   ]
  },
  {
   "cell_type": "code",
   "execution_count": 28,
   "id": "c1c7694d",
   "metadata": {},
   "outputs": [
    {
     "data": {
      "text/plain": [
       "RandomForestClassifier(max_depth=230, max_features='sqrt', min_samples_leaf=5,\n",
       "                       n_estimators=1400)"
      ]
     },
     "execution_count": 28,
     "metadata": {},
     "output_type": "execute_result"
    }
   ],
   "source": [
    "grid_search.best_estimator_"
   ]
  },
  {
   "cell_type": "code",
   "execution_count": 29,
   "id": "81d7dbcd",
   "metadata": {},
   "outputs": [],
   "source": [
    "best_grid=grid_search.best_estimator_"
   ]
  },
  {
   "cell_type": "code",
   "execution_count": 30,
   "id": "9483ae14",
   "metadata": {},
   "outputs": [
    {
     "data": {
      "text/plain": [
       "RandomForestClassifier(max_depth=230, max_features='sqrt', min_samples_leaf=5,\n",
       "                       n_estimators=1400)"
      ]
     },
     "execution_count": 30,
     "metadata": {},
     "output_type": "execute_result"
    }
   ],
   "source": [
    "best_grid"
   ]
  },
  {
   "cell_type": "code",
   "execution_count": 31,
   "id": "4a7a0005",
   "metadata": {},
   "outputs": [
    {
     "name": "stdout",
     "output_type": "stream",
     "text": [
      "[[97 10]\n",
      " [18 29]]\n",
      "Accuracy Score 0.8181818181818182\n",
      "Classification report:               precision    recall  f1-score   support\n",
      "\n",
      "           0       0.84      0.91      0.87       107\n",
      "           1       0.74      0.62      0.67        47\n",
      "\n",
      "    accuracy                           0.82       154\n",
      "   macro avg       0.79      0.76      0.77       154\n",
      "weighted avg       0.81      0.82      0.81       154\n",
      "\n"
     ]
    }
   ],
   "source": [
    "y_pred=best_grid.predict(X_test)\n",
    "print(confusion_matrix(y_test,y_pred))\n",
    "print(\"Accuracy Score {}\".format(accuracy_score(y_test,y_pred)))\n",
    "print(\"Classification report: {}\".format(classification_report(y_test,y_pred)))"
   ]
  },
  {
   "cell_type": "markdown",
   "id": "2dfeead2",
   "metadata": {},
   "source": [
    "#### Automated Hyperparameter Tuning\n",
    "Automated Hyperparameter Tuning can be done by using techniques such as\n",
    "\n",
    "* Bayesian Optimization\n",
    "* Gradient Descent\n",
    "* Evolutionary Algorithms"
   ]
  },
  {
   "cell_type": "markdown",
   "id": "6524fe30",
   "metadata": {},
   "source": [
    "### Bayesian Optimization\n",
    "\n",
    "` Bayesian optimization uses probability to find the minimum of a function. The final aim is to find the input value to a function which can gives us the lowest possible output value.It usually performs better than random,grid and manual search providing better performance in the testing phase and reduced optimization time. In Hyperopt, Bayesian Optimization can be implemented giving 3 three main parameters to the function fmin.\n",
    "\n",
    "* Objective Function = defines the loss function to minimize.\n",
    "* Domain Space = defines the range of input values to test (in Bayesian Optimization this space creates a probability distribution for each of the used Hyperparameters).\n",
    "* Optimization Algorithm = defines the search algorithm to use to select the best input values to use in each new iteration."
   ]
  },
  {
   "cell_type": "code",
   "execution_count": 36,
   "id": "66fada05",
   "metadata": {},
   "outputs": [
    {
     "name": "stdout",
     "output_type": "stream",
     "text": [
      "Requirement already satisfied: hyperopt in c:\\users\\soumg\\anaconda3\\lib\\site-packages (0.2.7)\n",
      "Requirement already satisfied: tqdm in c:\\users\\soumg\\anaconda3\\lib\\site-packages (from hyperopt) (4.59.0)\n",
      "Requirement already satisfied: future in c:\\users\\soumg\\anaconda3\\lib\\site-packages (from hyperopt) (0.18.2)\n",
      "Requirement already satisfied: numpy in c:\\users\\soumg\\anaconda3\\lib\\site-packages (from hyperopt) (1.20.1)\n",
      "Requirement already satisfied: networkx>=2.2 in c:\\users\\soumg\\anaconda3\\lib\\site-packages (from hyperopt) (2.5)\n",
      "Requirement already satisfied: cloudpickle in c:\\users\\soumg\\anaconda3\\lib\\site-packages (from hyperopt) (1.6.0)\n",
      "Requirement already satisfied: py4j in c:\\users\\soumg\\anaconda3\\lib\\site-packages (from hyperopt) (0.10.9.3)\n",
      "Requirement already satisfied: six in c:\\users\\soumg\\anaconda3\\lib\\site-packages (from hyperopt) (1.15.0)\n",
      "Requirement already satisfied: scipy in c:\\users\\soumg\\anaconda3\\lib\\site-packages (from hyperopt) (1.7.1)\n",
      "Requirement already satisfied: decorator>=4.3.0 in c:\\users\\soumg\\anaconda3\\lib\\site-packages (from networkx>=2.2->hyperopt) (5.0.6)\n"
     ]
    }
   ],
   "source": [
    "!pip install hyperopt\n",
    "from hyperopt import hp,fmin,tpe,STATUS_OK,Trials"
   ]
  },
  {
   "cell_type": "code",
   "execution_count": 37,
   "id": "4892cb3f",
   "metadata": {},
   "outputs": [],
   "source": [
    "space = {'criterion': hp.choice('criterion', ['entropy', 'gini']),\n",
    "        'max_depth': hp.quniform('max_depth', 10, 1200, 10),\n",
    "        'max_features': hp.choice('max_features', ['auto', 'sqrt','log2', None]),\n",
    "        'min_samples_leaf': hp.uniform('min_samples_leaf', 0, 0.5),\n",
    "        'min_samples_split' : hp.uniform ('min_samples_split', 0, 1),\n",
    "        'n_estimators' : hp.choice('n_estimators', [10, 50, 300, 750, 1200,1300,1500])\n",
    "    }"
   ]
  },
  {
   "cell_type": "code",
   "execution_count": 38,
   "id": "9dcae144",
   "metadata": {},
   "outputs": [
    {
     "data": {
      "text/plain": [
       "{'criterion': <hyperopt.pyll.base.Apply at 0x1cb6878bc10>,\n",
       " 'max_depth': <hyperopt.pyll.base.Apply at 0x1cb6878be80>,\n",
       " 'max_features': <hyperopt.pyll.base.Apply at 0x1cb6603e130>,\n",
       " 'min_samples_leaf': <hyperopt.pyll.base.Apply at 0x1cb6879a070>,\n",
       " 'min_samples_split': <hyperopt.pyll.base.Apply at 0x1cb6879a190>,\n",
       " 'n_estimators': <hyperopt.pyll.base.Apply at 0x1cb6879a280>}"
      ]
     },
     "execution_count": 38,
     "metadata": {},
     "output_type": "execute_result"
    }
   ],
   "source": [
    "space"
   ]
  },
  {
   "cell_type": "code",
   "execution_count": 39,
   "id": "c78c739e",
   "metadata": {},
   "outputs": [],
   "source": [
    "def objective(space):\n",
    "    model = RandomForestClassifier(criterion = space['criterion'], max_depth = space['max_depth'],\n",
    "                                 max_features = space['max_features'],\n",
    "                                 min_samples_leaf = space['min_samples_leaf'],\n",
    "                                 min_samples_split = space['min_samples_split'],\n",
    "                                 n_estimators = space['n_estimators'], \n",
    "                                 )\n",
    "    \n",
    "    accuracy = cross_val_score(model, X_train, y_train, cv = 5).mean()\n",
    "\n",
    "    # We aim to maximize accuracy, therefore we return it as a negative value\n",
    "    return {'loss': -accuracy, 'status': STATUS_OK }"
   ]
  },
  {
   "cell_type": "code",
   "execution_count": 40,
   "id": "caa458f1",
   "metadata": {},
   "outputs": [
    {
     "name": "stdout",
     "output_type": "stream",
     "text": [
      "100%|███████████████████████████████████████████████| 80/80 [08:09<00:00,  6.12s/trial, best loss: -0.7670931627349059]\n"
     ]
    },
    {
     "data": {
      "text/plain": [
       "{'criterion': 1,\n",
       " 'max_depth': 560.0,\n",
       " 'max_features': 2,\n",
       " 'min_samples_leaf': 0.07032546489420471,\n",
       " 'min_samples_split': 0.197327771500493,\n",
       " 'n_estimators': 3}"
      ]
     },
     "execution_count": 40,
     "metadata": {},
     "output_type": "execute_result"
    }
   ],
   "source": [
    "from sklearn.model_selection import cross_val_score\n",
    "trials = Trials()\n",
    "best = fmin(fn= objective,\n",
    "            space= space,\n",
    "            algo= tpe.suggest,\n",
    "            max_evals = 80,\n",
    "            trials= trials)\n",
    "best"
   ]
  },
  {
   "cell_type": "code",
   "execution_count": 41,
   "id": "210c09a6",
   "metadata": {},
   "outputs": [
    {
     "name": "stdout",
     "output_type": "stream",
     "text": [
      "gini\n",
      "log2\n",
      "750\n"
     ]
    }
   ],
   "source": [
    "crit = {0: 'entropy', 1: 'gini'}\n",
    "feat = {0: 'auto', 1: 'sqrt', 2: 'log2', 3: None}\n",
    "est = {0: 10, 1: 50, 2: 300, 3: 750, 4: 1200,5:1300,6:1500}\n",
    "\n",
    "\n",
    "print(crit[best['criterion']])\n",
    "print(feat[best['max_features']])\n",
    "print(est[best['n_estimators']])"
   ]
  },
  {
   "cell_type": "code",
   "execution_count": 42,
   "id": "2a7e9d3e",
   "metadata": {},
   "outputs": [
    {
     "data": {
      "text/plain": [
       "0.07032546489420471"
      ]
     },
     "execution_count": 42,
     "metadata": {},
     "output_type": "execute_result"
    }
   ],
   "source": [
    "best['min_samples_leaf']"
   ]
  },
  {
   "cell_type": "code",
   "execution_count": 43,
   "id": "e2b81b2b",
   "metadata": {},
   "outputs": [
    {
     "name": "stdout",
     "output_type": "stream",
     "text": [
      "[[98  9]\n",
      " [25 22]]\n",
      "0.7792207792207793\n",
      "              precision    recall  f1-score   support\n",
      "\n",
      "           0       0.80      0.92      0.85       107\n",
      "           1       0.71      0.47      0.56        47\n",
      "\n",
      "    accuracy                           0.78       154\n",
      "   macro avg       0.75      0.69      0.71       154\n",
      "weighted avg       0.77      0.78      0.76       154\n",
      "\n"
     ]
    }
   ],
   "source": [
    "trainedforest = RandomForestClassifier(criterion = crit[best['criterion']], max_depth = best['max_depth'], \n",
    "                                       max_features = feat[best['max_features']], \n",
    "                                       min_samples_leaf = best['min_samples_leaf'], \n",
    "                                       min_samples_split = best['min_samples_split'], \n",
    "                                       n_estimators = est[best['n_estimators']]).fit(X_train,y_train)\n",
    "predictionforest = trainedforest.predict(X_test)\n",
    "print(confusion_matrix(y_test,predictionforest))\n",
    "print(accuracy_score(y_test,predictionforest))\n",
    "print(classification_report(y_test,predictionforest))\n",
    "acc5 = accuracy_score(y_test,predictionforest)"
   ]
  },
  {
   "cell_type": "markdown",
   "id": "538f724d",
   "metadata": {},
   "source": [
    "### Genetic Algorithms\n",
    "Genetic Algorithms tries to apply natural selection mechanisms to Machine Learning contexts.\n",
    "\n",
    "Let's immagine we create a population of N Machine Learning models with some predifined Hyperparameters. We can then calculate the accuracy of each model and decide to keep just half of the models (the ones that performs best). We can now generate some offsprings having similar Hyperparameters to the ones of the best models so that go get again a population of N models. At this point we can again caltulate the accuracy of each model and repeate the cycle for a defined number of generations. In this way, just the best models will survive at the end of the process."
   ]
  },
  {
   "cell_type": "code",
   "execution_count": 44,
   "id": "68849b8c",
   "metadata": {},
   "outputs": [
    {
     "name": "stdout",
     "output_type": "stream",
     "text": [
      "{'n_estimators': [200, 400, 600, 800, 1000, 1200, 1400, 1600, 1800, 2000], 'max_features': ['auto', 'sqrt', 'log2'], 'max_depth': [10, 120, 230, 340, 450, 560, 670, 780, 890, 1000], 'min_samples_split': [2, 5, 10, 14], 'min_samples_leaf': [1, 2, 4, 6, 8], 'criterion': ['entropy', 'gini']}\n"
     ]
    }
   ],
   "source": [
    "import numpy as np\n",
    "from sklearn.model_selection import RandomizedSearchCV\n",
    "# Number of trees in random forest\n",
    "n_estimators = [int(x) for x in np.linspace(start = 200, stop = 2000, num = 10)]\n",
    "# Number of features to consider at every split\n",
    "max_features = ['auto', 'sqrt','log2']\n",
    "# Maximum number of levels in tree\n",
    "max_depth = [int(x) for x in np.linspace(10, 1000,10)]\n",
    "# Minimum number of samples required to split a node\n",
    "min_samples_split = [2, 5, 10,14]\n",
    "# Minimum number of samples required at each leaf node\n",
    "min_samples_leaf = [1, 2, 4,6,8]\n",
    "# Create the random grid\n",
    "param = {'n_estimators': n_estimators,\n",
    "               'max_features': max_features,\n",
    "               'max_depth': max_depth,\n",
    "               'min_samples_split': min_samples_split,\n",
    "               'min_samples_leaf': min_samples_leaf,\n",
    "              'criterion':['entropy','gini']}\n",
    "print(param)"
   ]
  },
  {
   "cell_type": "code",
   "execution_count": 46,
   "id": "6d84f268",
   "metadata": {},
   "outputs": [
    {
     "name": "stdout",
     "output_type": "stream",
     "text": [
      "Collecting tpot\n",
      "  Downloading TPOT-0.11.7-py3-none-any.whl (87 kB)\n",
      "Requirement already satisfied: scikit-learn>=0.22.0 in c:\\users\\soumg\\anaconda3\\lib\\site-packages (from tpot) (0.23.2)\n",
      "Requirement already satisfied: numpy>=1.16.3 in c:\\users\\soumg\\anaconda3\\lib\\site-packages (from tpot) (1.20.1)\n",
      "Requirement already satisfied: xgboost>=1.1.0 in c:\\users\\soumg\\anaconda3\\lib\\site-packages (from tpot) (1.5.1)\n",
      "Requirement already satisfied: pandas>=0.24.2 in c:\\users\\soumg\\anaconda3\\lib\\site-packages (from tpot) (1.2.4)\n",
      "Collecting deap>=1.2\n",
      "  Downloading deap-1.3.1-cp38-cp38-win_amd64.whl (108 kB)\n",
      "Collecting update-checker>=0.16\n",
      "  Downloading update_checker-0.18.0-py3-none-any.whl (7.0 kB)\n",
      "Requirement already satisfied: joblib>=0.13.2 in c:\\users\\soumg\\anaconda3\\lib\\site-packages (from tpot) (1.0.1)\n",
      "Collecting stopit>=1.1.1\n",
      "  Downloading stopit-1.1.2.tar.gz (18 kB)\n",
      "Requirement already satisfied: tqdm>=4.36.1 in c:\\users\\soumg\\anaconda3\\lib\\site-packages (from tpot) (4.59.0)\n",
      "Requirement already satisfied: scipy>=1.3.1 in c:\\users\\soumg\\anaconda3\\lib\\site-packages (from tpot) (1.7.1)\n",
      "Requirement already satisfied: python-dateutil>=2.7.3 in c:\\users\\soumg\\anaconda3\\lib\\site-packages (from pandas>=0.24.2->tpot) (2.8.1)\n",
      "Requirement already satisfied: pytz>=2017.3 in c:\\users\\soumg\\anaconda3\\lib\\site-packages (from pandas>=0.24.2->tpot) (2021.1)\n",
      "Requirement already satisfied: six>=1.5 in c:\\users\\soumg\\anaconda3\\lib\\site-packages (from python-dateutil>=2.7.3->pandas>=0.24.2->tpot) (1.15.0)\n",
      "Requirement already satisfied: threadpoolctl>=2.0.0 in c:\\users\\soumg\\anaconda3\\lib\\site-packages (from scikit-learn>=0.22.0->tpot) (2.1.0)\n",
      "Requirement already satisfied: requests>=2.3.0 in c:\\users\\soumg\\anaconda3\\lib\\site-packages (from update-checker>=0.16->tpot) (2.25.1)\n",
      "Requirement already satisfied: urllib3<1.27,>=1.21.1 in c:\\users\\soumg\\anaconda3\\lib\\site-packages (from requests>=2.3.0->update-checker>=0.16->tpot) (1.26.4)\n",
      "Requirement already satisfied: idna<3,>=2.5 in c:\\users\\soumg\\anaconda3\\lib\\site-packages (from requests>=2.3.0->update-checker>=0.16->tpot) (2.10)\n",
      "Requirement already satisfied: chardet<5,>=3.0.2 in c:\\users\\soumg\\anaconda3\\lib\\site-packages (from requests>=2.3.0->update-checker>=0.16->tpot) (4.0.0)\n",
      "Requirement already satisfied: certifi>=2017.4.17 in c:\\users\\soumg\\anaconda3\\lib\\site-packages (from requests>=2.3.0->update-checker>=0.16->tpot) (2020.6.20)\n",
      "Building wheels for collected packages: stopit\n",
      "  Building wheel for stopit (setup.py): started\n",
      "  Building wheel for stopit (setup.py): finished with status 'done'\n",
      "  Created wheel for stopit: filename=stopit-1.1.2-py3-none-any.whl size=11955 sha256=3dc7389169688555556b4a9507f902d1328a4a96017b9f582884f45e7df38c70\n",
      "  Stored in directory: c:\\users\\soumg\\appdata\\local\\pip\\cache\\wheels\\a8\\bb\\8f\\6b9328d23c2dcedbfeb8498b9f650d55d463089e3b8fc0bfb2\n",
      "Successfully built stopit\n",
      "Installing collected packages: update-checker, stopit, deap, tpot\n",
      "Successfully installed deap-1.3.1 stopit-1.1.2 tpot-0.11.7 update-checker-0.18.0\n"
     ]
    },
    {
     "data": {
      "application/vnd.jupyter.widget-view+json": {
       "model_id": "",
       "version_major": 2,
       "version_minor": 0
      },
      "text/plain": [
       "Optimization Progress:   0%|          | 0/84 [00:00<?, ?pipeline/s]"
      ]
     },
     "metadata": {},
     "output_type": "display_data"
    },
    {
     "name": "stdout",
     "output_type": "stream",
     "text": [
      "\n",
      "Generation 1 - Current best internal CV score: 0.7605996944232238\n",
      "\n",
      "Generation 2 - Current best internal CV score: 0.7605996944232238\n",
      "\n",
      "Generation 3 - Current best internal CV score: 0.7605996944232238\n",
      "\n",
      "Generation 4 - Current best internal CV score: 0.7605996944232238\n",
      "\n",
      "Generation 5 - Current best internal CV score: 0.7605996944232238\n",
      "\n",
      "Best pipeline: RandomForestClassifier(input_matrix, criterion=entropy, max_depth=560, max_features=log2, min_samples_leaf=4, min_samples_split=14, n_estimators=200)\n"
     ]
    },
    {
     "data": {
      "text/plain": [
       "TPOTClassifier(config_dict={'sklearn.ensemble.RandomForestClassifier': {'criterion': ['entropy',\n",
       "                                                                                      'gini'],\n",
       "                                                                        'max_depth': [10,\n",
       "                                                                                      120,\n",
       "                                                                                      230,\n",
       "                                                                                      340,\n",
       "                                                                                      450,\n",
       "                                                                                      560,\n",
       "                                                                                      670,\n",
       "                                                                                      780,\n",
       "                                                                                      890,\n",
       "                                                                                      1000],\n",
       "                                                                        'max_features': ['auto',\n",
       "                                                                                         'sqrt',\n",
       "                                                                                         'log2'],\n",
       "                                                                        'min_samples_leaf': [1,\n",
       "                                                                                             2,\n",
       "                                                                                             4,\n",
       "                                                                                             6,\n",
       "                                                                                             8],\n",
       "                                                                        'min_samples_split': [2,\n",
       "                                                                                              5,\n",
       "                                                                                              10,\n",
       "                                                                                              14],\n",
       "                                                                        'n_estimators': [200,\n",
       "                                                                                         400,\n",
       "                                                                                         600,\n",
       "                                                                                         800,\n",
       "                                                                                         1000,\n",
       "                                                                                         1200,\n",
       "                                                                                         1400,\n",
       "                                                                                         1600,\n",
       "                                                                                         1800,\n",
       "                                                                                         2000]}},\n",
       "               cv=4, early_stop=12, generations=5, offspring_size=12,\n",
       "               population_size=24, scoring='accuracy', verbosity=2)"
      ]
     },
     "execution_count": 46,
     "metadata": {},
     "output_type": "execute_result"
    }
   ],
   "source": [
    "\n",
    "!pip install tpot\n",
    "from tpot import TPOTClassifier\n",
    "\n",
    "\n",
    "tpot_classifier = TPOTClassifier(generations= 5, population_size= 24, offspring_size= 12,\n",
    "                                 verbosity= 2, early_stop= 12,\n",
    "                                 config_dict={'sklearn.ensemble.RandomForestClassifier': param}, \n",
    "                                 cv = 4, scoring = 'accuracy')\n",
    "tpot_classifier.fit(X_train,y_train)"
   ]
  },
  {
   "cell_type": "code",
   "execution_count": 47,
   "id": "ef6b3c7c",
   "metadata": {},
   "outputs": [
    {
     "name": "stdout",
     "output_type": "stream",
     "text": [
      "0.8506493506493507\n"
     ]
    }
   ],
   "source": [
    "accuracy = tpot_classifier.score(X_test, y_test)\n",
    "print(accuracy)"
   ]
  },
  {
   "cell_type": "markdown",
   "id": "bba81a8b",
   "metadata": {},
   "source": [
    "### Optimize hyperparameters of the model using Optuna\n",
    "\n",
    "$$$ The hyperparameters of the above algorithm are n_estimators and max_depth for which we can try different values to see if the model accuracy can be improved. The objective function is modified to accept a trial object. This trial has several methods for sampling hyperparameters. We create a study to run the hyperparameter optimization and finally read the best hyperparameters."
   ]
  },
  {
   "cell_type": "code",
   "execution_count": 50,
   "id": "99b0ee7d",
   "metadata": {},
   "outputs": [
    {
     "name": "stdout",
     "output_type": "stream",
     "text": [
      "Requirement already satisfied: optuna in c:\\users\\soumg\\anaconda3\\lib\\site-packages (2.10.0)\n",
      "Requirement already satisfied: colorlog in c:\\users\\soumg\\anaconda3\\lib\\site-packages (from optuna) (6.6.0)\n",
      "Requirement already satisfied: cliff in c:\\users\\soumg\\anaconda3\\lib\\site-packages (from optuna) (3.10.0)\n",
      "Requirement already satisfied: packaging>=20.0 in c:\\users\\soumg\\anaconda3\\lib\\site-packages (from optuna) (20.9)\n",
      "Requirement already satisfied: tqdm in c:\\users\\soumg\\anaconda3\\lib\\site-packages (from optuna) (4.59.0)\n",
      "Requirement already satisfied: PyYAML in c:\\users\\soumg\\anaconda3\\lib\\site-packages (from optuna) (5.4.1)\n",
      "Requirement already satisfied: sqlalchemy>=1.1.0 in c:\\users\\soumg\\anaconda3\\lib\\site-packages (from optuna) (1.4.7)\n",
      "Requirement already satisfied: cmaes>=0.8.2 in c:\\users\\soumg\\anaconda3\\lib\\site-packages (from optuna) (0.8.2)\n",
      "Requirement already satisfied: scipy!=1.4.0 in c:\\users\\soumg\\anaconda3\\lib\\site-packages (from optuna) (1.7.1)\n",
      "Requirement already satisfied: alembic in c:\\users\\soumg\\anaconda3\\lib\\site-packages (from optuna) (1.7.5)\n",
      "Requirement already satisfied: numpy in c:\\users\\soumg\\anaconda3\\lib\\site-packages (from optuna) (1.20.1)\n",
      "Requirement already satisfied: pyparsing>=2.0.2 in c:\\users\\soumg\\anaconda3\\lib\\site-packages (from packaging>=20.0->optuna) (2.4.7)\n",
      "Requirement already satisfied: greenlet!=0.4.17 in c:\\users\\soumg\\anaconda3\\lib\\site-packages (from sqlalchemy>=1.1.0->optuna) (1.0.0)\n",
      "Requirement already satisfied: importlib-resources in c:\\users\\soumg\\anaconda3\\lib\\site-packages (from alembic->optuna) (5.4.0)\n",
      "Requirement already satisfied: importlib-metadata in c:\\users\\soumg\\anaconda3\\lib\\site-packages (from alembic->optuna) (3.10.0)\n",
      "Requirement already satisfied: Mako in c:\\users\\soumg\\anaconda3\\lib\\site-packages (from alembic->optuna) (1.1.6)\n",
      "Requirement already satisfied: cmd2>=1.0.0 in c:\\users\\soumg\\anaconda3\\lib\\site-packages (from cliff->optuna) (2.3.3)\n",
      "Requirement already satisfied: PrettyTable>=0.7.2 in c:\\users\\soumg\\anaconda3\\lib\\site-packages (from cliff->optuna) (3.0.0)\n",
      "Requirement already satisfied: pbr!=2.1.0,>=2.0.0 in c:\\users\\soumg\\anaconda3\\lib\\site-packages (from cliff->optuna) (5.8.0)\n",
      "Requirement already satisfied: stevedore>=2.0.1 in c:\\users\\soumg\\anaconda3\\lib\\site-packages (from cliff->optuna) (3.5.0)\n",
      "Requirement already satisfied: autopage>=0.4.0 in c:\\users\\soumg\\anaconda3\\lib\\site-packages (from cliff->optuna) (0.4.0)\n",
      "Requirement already satisfied: attrs>=16.3.0 in c:\\users\\soumg\\anaconda3\\lib\\site-packages (from cmd2>=1.0.0->cliff->optuna) (20.3.0)\n",
      "Requirement already satisfied: pyreadline3 in c:\\users\\soumg\\anaconda3\\lib\\site-packages (from cmd2>=1.0.0->cliff->optuna) (3.3)\n",
      "Requirement already satisfied: pyperclip>=1.6 in c:\\users\\soumg\\anaconda3\\lib\\site-packages (from cmd2>=1.0.0->cliff->optuna) (1.8.2)\n",
      "Requirement already satisfied: wcwidth>=0.1.7 in c:\\users\\soumg\\anaconda3\\lib\\site-packages (from cmd2>=1.0.0->cliff->optuna) (0.2.5)\n",
      "Requirement already satisfied: colorama in c:\\users\\soumg\\anaconda3\\lib\\site-packages (from colorlog->optuna) (0.4.4)\n",
      "Requirement already satisfied: zipp>=0.5 in c:\\users\\soumg\\anaconda3\\lib\\site-packages (from importlib-metadata->alembic->optuna) (3.4.1)\n",
      "Requirement already satisfied: MarkupSafe>=0.9.2 in c:\\users\\soumg\\anaconda3\\lib\\site-packages (from Mako->alembic->optuna) (1.1.1)\n"
     ]
    }
   ],
   "source": [
    "!pip install optuna\n",
    "import optuna\n",
    "import sklearn.svm\n",
    "def objective(trial):\n",
    "\n",
    "    classifier = trial.suggest_categorical('classifier', ['RandomForest', 'SVC'])\n",
    "    \n",
    "    if classifier == 'RandomForest':\n",
    "        n_estimators = trial.suggest_int('n_estimators', 200, 2000,10)\n",
    "        max_depth = int(trial.suggest_float('max_depth', 10, 100, log=True))\n",
    "\n",
    "        clf = sklearn.ensemble.RandomForestClassifier(\n",
    "            n_estimators=n_estimators, max_depth=max_depth)\n",
    "    else:\n",
    "        c = trial.suggest_float('svc_c', 1e-10, 1e10, log=True)\n",
    "        \n",
    "        clf = sklearn.svm.SVC(C=c, gamma='auto')\n",
    "\n",
    "    return sklearn.model_selection.cross_val_score(\n",
    "        clf,X_train,y_train, n_jobs=-1, cv=3).mean()"
   ]
  },
  {
   "cell_type": "code",
   "execution_count": 51,
   "id": "6585b140",
   "metadata": {},
   "outputs": [
    {
     "name": "stderr",
     "output_type": "stream",
     "text": [
      "\u001b[32m[I 2022-01-10 20:48:39,580]\u001b[0m A new study created in memory with name: no-name-29bcb5e5-2a94-470b-98b7-62f4a7c432b9\u001b[0m\n",
      "\u001b[32m[I 2022-01-10 20:48:41,723]\u001b[0m Trial 0 finished with value: 0.640068547744301 and parameters: {'classifier': 'SVC', 'svc_c': 1224.4354491002696}. Best is trial 0 with value: 0.640068547744301.\u001b[0m\n",
      "\u001b[32m[I 2022-01-10 20:48:46,652]\u001b[0m Trial 1 finished with value: 0.7491710505340348 and parameters: {'classifier': 'RandomForest', 'n_estimators': 1660, 'max_depth': 12.778395108980401}. Best is trial 1 with value: 0.7491710505340348.\u001b[0m\n",
      "\u001b[32m[I 2022-01-10 20:48:46,691]\u001b[0m Trial 2 finished with value: 0.640068547744301 and parameters: {'classifier': 'SVC', 'svc_c': 0.8245049086680108}. Best is trial 1 with value: 0.7491710505340348.\u001b[0m\n",
      "\u001b[32m[I 2022-01-10 20:48:47,485]\u001b[0m Trial 3 finished with value: 0.7491551091981509 and parameters: {'classifier': 'RandomForest', 'n_estimators': 350, 'max_depth': 68.55840778207455}. Best is trial 1 with value: 0.7491710505340348.\u001b[0m\n",
      "\u001b[32m[I 2022-01-10 20:48:47,521]\u001b[0m Trial 4 finished with value: 0.640068547744301 and parameters: {'classifier': 'SVC', 'svc_c': 0.5120436903691018}. Best is trial 1 with value: 0.7491710505340348.\u001b[0m\n",
      "\u001b[32m[I 2022-01-10 20:48:49,842]\u001b[0m Trial 5 finished with value: 0.7540650406504065 and parameters: {'classifier': 'RandomForest', 'n_estimators': 1180, 'max_depth': 33.16579152685309}. Best is trial 5 with value: 0.7540650406504065.\u001b[0m\n",
      "\u001b[32m[I 2022-01-10 20:48:49,877]\u001b[0m Trial 6 finished with value: 0.640068547744301 and parameters: {'classifier': 'SVC', 'svc_c': 4.757696938185151e-09}. Best is trial 5 with value: 0.7540650406504065.\u001b[0m\n",
      "\u001b[32m[I 2022-01-10 20:48:49,907]\u001b[0m Trial 7 finished with value: 0.640068547744301 and parameters: {'classifier': 'SVC', 'svc_c': 5.298235281574289e-10}. Best is trial 5 with value: 0.7540650406504065.\u001b[0m\n",
      "\u001b[32m[I 2022-01-10 20:48:50,342]\u001b[0m Trial 8 finished with value: 0.7540490993145226 and parameters: {'classifier': 'RandomForest', 'n_estimators': 210, 'max_depth': 21.5698711656937}. Best is trial 5 with value: 0.7540650406504065.\u001b[0m\n",
      "\u001b[32m[I 2022-01-10 20:48:50,381]\u001b[0m Trial 9 finished with value: 0.640068547744301 and parameters: {'classifier': 'SVC', 'svc_c': 46448732.16571534}. Best is trial 5 with value: 0.7540650406504065.\u001b[0m\n",
      "\u001b[32m[I 2022-01-10 20:48:52,891]\u001b[0m Trial 10 finished with value: 0.7540650406504065 and parameters: {'classifier': 'RandomForest', 'n_estimators': 1220, 'max_depth': 52.67931707141482}. Best is trial 5 with value: 0.7540650406504065.\u001b[0m\n",
      "\u001b[32m[I 2022-01-10 20:48:55,294]\u001b[0m Trial 11 finished with value: 0.7507970667941973 and parameters: {'classifier': 'RandomForest', 'n_estimators': 1180, 'max_depth': 52.27045174203041}. Best is trial 5 with value: 0.7540650406504065.\u001b[0m\n",
      "\u001b[32m[I 2022-01-10 20:48:57,746]\u001b[0m Trial 12 finished with value: 0.7524390243902439 and parameters: {'classifier': 'RandomForest', 'n_estimators': 1160, 'max_depth': 35.87017697972872}. Best is trial 5 with value: 0.7540650406504065.\u001b[0m\n",
      "\u001b[32m[I 2022-01-10 20:49:01,025]\u001b[0m Trial 13 finished with value: 0.7540570699824646 and parameters: {'classifier': 'RandomForest', 'n_estimators': 1560, 'max_depth': 93.61465465547937}. Best is trial 5 with value: 0.7540650406504065.\u001b[0m\n",
      "\u001b[32m[I 2022-01-10 20:49:03,050]\u001b[0m Trial 14 finished with value: 0.7491710505340348 and parameters: {'classifier': 'RandomForest', 'n_estimators': 910, 'max_depth': 29.032652416847565}. Best is trial 5 with value: 0.7540650406504065.\u001b[0m\n",
      "\u001b[32m[I 2022-01-10 20:49:04,625]\u001b[0m Trial 15 finished with value: 0.7524310537223019 and parameters: {'classifier': 'RandomForest', 'n_estimators': 790, 'max_depth': 43.38199739524124}. Best is trial 5 with value: 0.7540650406504065.\u001b[0m\n",
      "\u001b[32m[I 2022-01-10 20:49:08,543]\u001b[0m Trial 16 finished with value: 0.7524390243902439 and parameters: {'classifier': 'RandomForest', 'n_estimators': 1940, 'max_depth': 23.32003597973025}. Best is trial 5 with value: 0.7540650406504065.\u001b[0m\n",
      "\u001b[32m[I 2022-01-10 20:49:11,210]\u001b[0m Trial 17 finished with value: 0.7475450342738722 and parameters: {'classifier': 'RandomForest', 'n_estimators': 1360, 'max_depth': 58.140190606603056}. Best is trial 5 with value: 0.7540650406504065.\u001b[0m\n",
      "\u001b[32m[I 2022-01-10 20:49:12,710]\u001b[0m Trial 18 finished with value: 0.7475530049418141 and parameters: {'classifier': 'RandomForest', 'n_estimators': 740, 'max_depth': 18.47142568251978}. Best is trial 5 with value: 0.7540650406504065.\u001b[0m\n",
      "\u001b[32m[I 2022-01-10 20:49:15,637]\u001b[0m Trial 19 finished with value: 0.7507890961262554 and parameters: {'classifier': 'RandomForest', 'n_estimators': 1450, 'max_depth': 35.66941221041363}. Best is trial 5 with value: 0.7540650406504065.\u001b[0m\n",
      "\u001b[32m[I 2022-01-10 20:49:16,749]\u001b[0m Trial 20 finished with value: 0.7410569105691057 and parameters: {'classifier': 'RandomForest', 'n_estimators': 540, 'max_depth': 83.52783322545386}. Best is trial 5 with value: 0.7540650406504065.\u001b[0m\n",
      "\u001b[32m[I 2022-01-10 20:49:19,844]\u001b[0m Trial 21 finished with value: 0.7556910569105691 and parameters: {'classifier': 'RandomForest', 'n_estimators': 1560, 'max_depth': 91.01343016928787}. Best is trial 21 with value: 0.7556910569105691.\u001b[0m\n",
      "\u001b[32m[I 2022-01-10 20:49:23,340]\u001b[0m Trial 22 finished with value: 0.7508050374621393 and parameters: {'classifier': 'RandomForest', 'n_estimators': 1790, 'max_depth': 68.29011668967522}. Best is trial 21 with value: 0.7556910569105691.\u001b[0m\n",
      "\u001b[32m[I 2022-01-10 20:49:25,793]\u001b[0m Trial 23 finished with value: 0.7524310537223019 and parameters: {'classifier': 'RandomForest', 'n_estimators': 1260, 'max_depth': 46.485919025947005}. Best is trial 21 with value: 0.7556910569105691.\u001b[0m\n",
      "\u001b[32m[I 2022-01-10 20:49:27,754]\u001b[0m Trial 24 finished with value: 0.7524310537223019 and parameters: {'classifier': 'RandomForest', 'n_estimators': 990, 'max_depth': 98.46564355446321}. Best is trial 21 with value: 0.7556910569105691.\u001b[0m\n",
      "\u001b[32m[I 2022-01-10 20:49:30,666]\u001b[0m Trial 25 finished with value: 0.7556910569105691 and parameters: {'classifier': 'RandomForest', 'n_estimators': 1480, 'max_depth': 69.5339048926403}. Best is trial 21 with value: 0.7556910569105691.\u001b[0m\n",
      "\u001b[32m[I 2022-01-10 20:49:33,691]\u001b[0m Trial 26 finished with value: 0.7459269886816515 and parameters: {'classifier': 'RandomForest', 'n_estimators': 1540, 'max_depth': 73.41445656537124}. Best is trial 21 with value: 0.7556910569105691.\u001b[0m\n",
      "\u001b[32m[I 2022-01-10 20:49:37,154]\u001b[0m Trial 27 finished with value: 0.7540650406504065 and parameters: {'classifier': 'RandomForest', 'n_estimators': 1770, 'max_depth': 12.568644521407046}. Best is trial 21 with value: 0.7556910569105691.\u001b[0m\n",
      "\u001b[32m[I 2022-01-10 20:49:41,009]\u001b[0m Trial 28 finished with value: 0.7524390243902439 and parameters: {'classifier': 'RandomForest', 'n_estimators': 1980, 'max_depth': 10.466783016418859}. Best is trial 21 with value: 0.7556910569105691.\u001b[0m\n",
      "\u001b[32m[I 2022-01-10 20:49:41,054]\u001b[0m Trial 29 finished with value: 0.640068547744301 and parameters: {'classifier': 'SVC', 'svc_c': 1510795067.2724426}. Best is trial 21 with value: 0.7556910569105691.\u001b[0m\n",
      "\u001b[32m[I 2022-01-10 20:49:44,487]\u001b[0m Trial 30 finished with value: 0.7491790212019768 and parameters: {'classifier': 'RandomForest', 'n_estimators': 1760, 'max_depth': 16.12987569220833}. Best is trial 21 with value: 0.7556910569105691.\u001b[0m\n",
      "\u001b[32m[I 2022-01-10 20:49:47,193]\u001b[0m Trial 31 finished with value: 0.7540650406504065 and parameters: {'classifier': 'RandomForest', 'n_estimators': 1370, 'max_depth': 25.908062854062848}. Best is trial 21 with value: 0.7556910569105691.\u001b[0m\n",
      "\u001b[32m[I 2022-01-10 20:49:49,951]\u001b[0m Trial 32 finished with value: 0.7491869918699187 and parameters: {'classifier': 'RandomForest', 'n_estimators': 1400, 'max_depth': 14.063704861452688}. Best is trial 21 with value: 0.7556910569105691.\u001b[0m\n",
      "\u001b[32m[I 2022-01-10 20:49:53,296]\u001b[0m Trial 33 finished with value: 0.7524390243902439 and parameters: {'classifier': 'RandomForest', 'n_estimators': 1700, 'max_depth': 26.8246515893409}. Best is trial 21 with value: 0.7556910569105691.\u001b[0m\n",
      "\u001b[32m[I 2022-01-10 20:49:56,437]\u001b[0m Trial 34 finished with value: 0.7459190180137095 and parameters: {'classifier': 'RandomForest', 'n_estimators': 1580, 'max_depth': 10.078893597119736}. Best is trial 21 with value: 0.7556910569105691.\u001b[0m\n"
     ]
    },
    {
     "name": "stderr",
     "output_type": "stream",
     "text": [
      "\u001b[32m[I 2022-01-10 20:49:58,458]\u001b[0m Trial 35 finished with value: 0.7475530049418141 and parameters: {'classifier': 'RandomForest', 'n_estimators': 1020, 'max_depth': 35.26174566717942}. Best is trial 21 with value: 0.7556910569105691.\u001b[0m\n",
      "\u001b[32m[I 2022-01-10 20:49:58,495]\u001b[0m Trial 36 finished with value: 0.640068547744301 and parameters: {'classifier': 'SVC', 'svc_c': 1.984550546385484e-05}. Best is trial 21 with value: 0.7556910569105691.\u001b[0m\n",
      "\u001b[32m[I 2022-01-10 20:50:02,075]\u001b[0m Trial 37 finished with value: 0.7491710505340348 and parameters: {'classifier': 'RandomForest', 'n_estimators': 1830, 'max_depth': 75.51979322919303}. Best is trial 21 with value: 0.7556910569105691.\u001b[0m\n",
      "\u001b[32m[I 2022-01-10 20:50:02,125]\u001b[0m Trial 38 finished with value: 0.640068547744301 and parameters: {'classifier': 'SVC', 'svc_c': 57143.631586811265}. Best is trial 21 with value: 0.7556910569105691.\u001b[0m\n",
      "\u001b[32m[I 2022-01-10 20:50:05,435]\u001b[0m Trial 39 finished with value: 0.7475530049418141 and parameters: {'classifier': 'RandomForest', 'n_estimators': 1690, 'max_depth': 59.43802597718226}. Best is trial 21 with value: 0.7556910569105691.\u001b[0m\n",
      "\u001b[32m[I 2022-01-10 20:50:05,475]\u001b[0m Trial 40 finished with value: 0.640068547744301 and parameters: {'classifier': 'SVC', 'svc_c': 2.541226653728735e-05}. Best is trial 21 with value: 0.7556910569105691.\u001b[0m\n",
      "\u001b[32m[I 2022-01-10 20:50:08,066]\u001b[0m Trial 41 finished with value: 0.7491869918699187 and parameters: {'classifier': 'RandomForest', 'n_estimators': 1310, 'max_depth': 49.52410811081063}. Best is trial 21 with value: 0.7556910569105691.\u001b[0m\n",
      "\u001b[32m[I 2022-01-10 20:50:11,113]\u001b[0m Trial 42 finished with value: 0.7524310537223019 and parameters: {'classifier': 'RandomForest', 'n_estimators': 1540, 'max_depth': 17.69630430705901}. Best is trial 21 with value: 0.7556910569105691.\u001b[0m\n",
      "\u001b[32m[I 2022-01-10 20:50:13,957]\u001b[0m Trial 43 finished with value: 0.7540730113183485 and parameters: {'classifier': 'RandomForest', 'n_estimators': 1460, 'max_depth': 12.688826219584323}. Best is trial 21 with value: 0.7556910569105691.\u001b[0m\n",
      "\u001b[32m[I 2022-01-10 20:50:16,802]\u001b[0m Trial 44 finished with value: 0.7475450342738722 and parameters: {'classifier': 'RandomForest', 'n_estimators': 1460, 'max_depth': 12.990381840905938}. Best is trial 21 with value: 0.7556910569105691.\u001b[0m\n",
      "\u001b[32m[I 2022-01-10 20:50:19,183]\u001b[0m Trial 45 finished with value: 0.7556830862426271 and parameters: {'classifier': 'RandomForest', 'n_estimators': 1210, 'max_depth': 63.268115395527154}. Best is trial 21 with value: 0.7556910569105691.\u001b[0m\n",
      "\u001b[32m[I 2022-01-10 20:50:21,822]\u001b[0m Trial 46 finished with value: 0.7589430894308943 and parameters: {'classifier': 'RandomForest', 'n_estimators': 1340, 'max_depth': 82.71735597306764}. Best is trial 46 with value: 0.7589430894308943.\u001b[0m\n",
      "\u001b[32m[I 2022-01-10 20:50:23,971]\u001b[0m Trial 47 finished with value: 0.7491869918699187 and parameters: {'classifier': 'RandomForest', 'n_estimators': 1090, 'max_depth': 82.24123147118046}. Best is trial 46 with value: 0.7589430894308943.\u001b[0m\n",
      "\u001b[32m[I 2022-01-10 20:50:26,542]\u001b[0m Trial 48 finished with value: 0.7491630798660928 and parameters: {'classifier': 'RandomForest', 'n_estimators': 1290, 'max_depth': 68.18505867148517}. Best is trial 46 with value: 0.7589430894308943.\u001b[0m\n",
      "\u001b[32m[I 2022-01-10 20:50:26,582]\u001b[0m Trial 49 finished with value: 0.640068547744301 and parameters: {'classifier': 'SVC', 'svc_c': 4.313566740885987e-05}. Best is trial 46 with value: 0.7589430894308943.\u001b[0m\n",
      "\u001b[32m[I 2022-01-10 20:50:29,456]\u001b[0m Trial 50 finished with value: 0.7508050374621393 and parameters: {'classifier': 'RandomForest', 'n_estimators': 1470, 'max_depth': 86.9781341286853}. Best is trial 46 with value: 0.7589430894308943.\u001b[0m\n",
      "\u001b[32m[I 2022-01-10 20:50:31,900]\u001b[0m Trial 51 finished with value: 0.75242308305436 and parameters: {'classifier': 'RandomForest', 'n_estimators': 1250, 'max_depth': 59.367289986620825}. Best is trial 46 with value: 0.7589430894308943.\u001b[0m\n",
      "\u001b[32m[I 2022-01-10 20:50:34,131]\u001b[0m Trial 52 finished with value: 0.7508050374621393 and parameters: {'classifier': 'RandomForest', 'n_estimators': 1120, 'max_depth': 99.89236894672739}. Best is trial 46 with value: 0.7589430894308943.\u001b[0m\n",
      "\u001b[32m[I 2022-01-10 20:50:37,298]\u001b[0m Trial 53 finished with value: 0.7507970667941973 and parameters: {'classifier': 'RandomForest', 'n_estimators': 1620, 'max_depth': 42.138485012464685}. Best is trial 46 with value: 0.7589430894308943.\u001b[0m\n",
      "\u001b[32m[I 2022-01-10 20:50:39,657]\u001b[0m Trial 54 finished with value: 0.7524390243902439 and parameters: {'classifier': 'RandomForest', 'n_estimators': 1200, 'max_depth': 63.34923054290529}. Best is trial 46 with value: 0.7589430894308943.\u001b[0m\n",
      "\u001b[32m[I 2022-01-10 20:50:43,288]\u001b[0m Trial 55 finished with value: 0.7573091025027897 and parameters: {'classifier': 'RandomForest', 'n_estimators': 1850, 'max_depth': 11.931717001743559}. Best is trial 46 with value: 0.7589430894308943.\u001b[0m\n",
      "\u001b[32m[I 2022-01-10 20:50:47,020]\u001b[0m Trial 56 finished with value: 0.7524390243902439 and parameters: {'classifier': 'RandomForest', 'n_estimators': 1910, 'max_depth': 77.21581181928785}. Best is trial 46 with value: 0.7589430894308943.\u001b[0m\n",
      "\u001b[32m[I 2022-01-10 20:50:50,312]\u001b[0m Trial 57 finished with value: 0.7508130081300813 and parameters: {'classifier': 'RandomForest', 'n_estimators': 1670, 'max_depth': 90.0052001289586}. Best is trial 46 with value: 0.7589430894308943.\u001b[0m\n",
      "\u001b[32m[I 2022-01-10 20:50:53,214]\u001b[0m Trial 58 finished with value: 0.7491790212019768 and parameters: {'classifier': 'RandomForest', 'n_estimators': 1480, 'max_depth': 11.427839028290773}. Best is trial 46 with value: 0.7589430894308943.\u001b[0m\n",
      "\u001b[32m[I 2022-01-10 20:50:56,876]\u001b[0m Trial 59 finished with value: 0.7507970667941973 and parameters: {'classifier': 'RandomForest', 'n_estimators': 1870, 'max_depth': 15.035173844027304}. Best is trial 46 with value: 0.7589430894308943.\u001b[0m\n",
      "\u001b[32m[I 2022-01-10 20:50:59,522]\u001b[0m Trial 60 finished with value: 0.7540490993145226 and parameters: {'classifier': 'RandomForest', 'n_estimators': 1350, 'max_depth': 54.436791413141826}. Best is trial 46 with value: 0.7589430894308943.\u001b[0m\n",
      "\u001b[32m[I 2022-01-10 20:51:01,872]\u001b[0m Trial 61 finished with value: 0.7508130081300813 and parameters: {'classifier': 'RandomForest', 'n_estimators': 1160, 'max_depth': 19.172982048389905}. Best is trial 46 with value: 0.7589430894308943.\u001b[0m\n",
      "\u001b[32m[I 2022-01-10 20:51:05,035]\u001b[0m Trial 62 finished with value: 0.7491790212019768 and parameters: {'classifier': 'RandomForest', 'n_estimators': 1600, 'max_depth': 12.28304860117171}. Best is trial 46 with value: 0.7589430894308943.\u001b[0m\n",
      "\u001b[32m[I 2022-01-10 20:51:08,519]\u001b[0m Trial 63 finished with value: 0.7540570699824646 and parameters: {'classifier': 'RandomForest', 'n_estimators': 1770, 'max_depth': 11.581582731451507}. Best is trial 46 with value: 0.7589430894308943.\u001b[0m\n",
      "\u001b[32m[I 2022-01-10 20:51:11,253]\u001b[0m Trial 64 finished with value: 0.7556910569105691 and parameters: {'classifier': 'RandomForest', 'n_estimators': 1390, 'max_depth': 26.070696368359975}. Best is trial 46 with value: 0.7589430894308943.\u001b[0m\n",
      "\u001b[32m[I 2022-01-10 20:51:14,044]\u001b[0m Trial 65 finished with value: 0.7508050374621393 and parameters: {'classifier': 'RandomForest', 'n_estimators': 1400, 'max_depth': 41.19465761436836}. Best is trial 46 with value: 0.7589430894308943.\u001b[0m\n",
      "\u001b[32m[I 2022-01-10 20:51:17,065]\u001b[0m Trial 66 finished with value: 0.7524310537223019 and parameters: {'classifier': 'RandomForest', 'n_estimators': 1520, 'max_depth': 23.227911042210636}. Best is trial 46 with value: 0.7589430894308943.\u001b[0m\n",
      "\u001b[32m[I 2022-01-10 20:51:19,824]\u001b[0m Trial 67 finished with value: 0.7524390243902439 and parameters: {'classifier': 'RandomForest', 'n_estimators': 1410, 'max_depth': 66.928650565626}. Best is trial 46 with value: 0.7589430894308943.\u001b[0m\n",
      "\u001b[32m[I 2022-01-10 20:51:19,869]\u001b[0m Trial 68 finished with value: 0.640068547744301 and parameters: {'classifier': 'SVC', 'svc_c': 5254.463519434596}. Best is trial 46 with value: 0.7589430894308943.\u001b[0m\n",
      "\u001b[32m[I 2022-01-10 20:51:22,456]\u001b[0m Trial 69 finished with value: 0.7573170731707317 and parameters: {'classifier': 'RandomForest', 'n_estimators': 1320, 'max_depth': 82.55685894036668}. Best is trial 46 with value: 0.7589430894308943.\u001b[0m\n"
     ]
    },
    {
     "name": "stderr",
     "output_type": "stream",
     "text": [
      "\u001b[32m[I 2022-01-10 20:51:25,088]\u001b[0m Trial 70 finished with value: 0.7507970667941973 and parameters: {'classifier': 'RandomForest', 'n_estimators': 1320, 'max_depth': 79.17098264338922}. Best is trial 46 with value: 0.7589430894308943.\u001b[0m\n",
      "\u001b[32m[I 2022-01-10 20:51:27,486]\u001b[0m Trial 71 finished with value: 0.7475530049418141 and parameters: {'classifier': 'RandomForest', 'n_estimators': 1220, 'max_depth': 93.6287798982243}. Best is trial 46 with value: 0.7589430894308943.\u001b[0m\n",
      "\u001b[32m[I 2022-01-10 20:51:29,972]\u001b[0m Trial 72 finished with value: 0.7540730113183485 and parameters: {'classifier': 'RandomForest', 'n_estimators': 1270, 'max_depth': 84.63797527194956}. Best is trial 46 with value: 0.7589430894308943.\u001b[0m\n",
      "\u001b[32m[I 2022-01-10 20:51:32,460]\u001b[0m Trial 73 finished with value: 0.7508050374621393 and parameters: {'classifier': 'RandomForest', 'n_estimators': 1260, 'max_depth': 72.27370545647933}. Best is trial 46 with value: 0.7589430894308943.\u001b[0m\n",
      "\u001b[32m[I 2022-01-10 20:51:34,354]\u001b[0m Trial 74 finished with value: 0.7475450342738722 and parameters: {'classifier': 'RandomForest', 'n_estimators': 960, 'max_depth': 88.00750140413082}. Best is trial 46 with value: 0.7589430894308943.\u001b[0m\n",
      "\u001b[32m[I 2022-01-10 20:51:36,598]\u001b[0m Trial 75 finished with value: 0.7475530049418141 and parameters: {'classifier': 'RandomForest', 'n_estimators': 1140, 'max_depth': 82.0948926659357}. Best is trial 46 with value: 0.7589430894308943.\u001b[0m\n",
      "\u001b[32m[I 2022-01-10 20:51:39,194]\u001b[0m Trial 76 finished with value: 0.7573250438386737 and parameters: {'classifier': 'RandomForest', 'n_estimators': 1340, 'max_depth': 31.765726792949266}. Best is trial 46 with value: 0.7589430894308943.\u001b[0m\n",
      "\u001b[32m[I 2022-01-10 20:51:41,267]\u001b[0m Trial 77 finished with value: 0.7540570699824646 and parameters: {'classifier': 'RandomForest', 'n_estimators': 1040, 'max_depth': 31.286492276366545}. Best is trial 46 with value: 0.7589430894308943.\u001b[0m\n",
      "\u001b[32m[I 2022-01-10 20:51:44,073]\u001b[0m Trial 78 finished with value: 0.7524390243902439 and parameters: {'classifier': 'RandomForest', 'n_estimators': 1410, 'max_depth': 63.855028419955175}. Best is trial 46 with value: 0.7589430894308943.\u001b[0m\n",
      "\u001b[32m[I 2022-01-10 20:51:44,113]\u001b[0m Trial 79 finished with value: 0.640068547744301 and parameters: {'classifier': 'SVC', 'svc_c': 0.0025146693944214744}. Best is trial 46 with value: 0.7589430894308943.\u001b[0m\n",
      "\u001b[32m[I 2022-01-10 20:51:46,736]\u001b[0m Trial 80 finished with value: 0.7491710505340348 and parameters: {'classifier': 'RandomForest', 'n_estimators': 1330, 'max_depth': 20.298243276815597}. Best is trial 46 with value: 0.7589430894308943.\u001b[0m\n",
      "\u001b[32m[I 2022-01-10 20:51:49,269]\u001b[0m Trial 81 finished with value: 0.7491710505340348 and parameters: {'classifier': 'RandomForest', 'n_estimators': 1280, 'max_depth': 94.39348871211409}. Best is trial 46 with value: 0.7589430894308943.\u001b[0m\n",
      "\u001b[32m[I 2022-01-10 20:51:52,221]\u001b[0m Trial 82 finished with value: 0.7508050374621393 and parameters: {'classifier': 'RandomForest', 'n_estimators': 1510, 'max_depth': 38.503186387643886}. Best is trial 46 with value: 0.7589430894308943.\u001b[0m\n",
      "\u001b[32m[I 2022-01-10 20:51:55,017]\u001b[0m Trial 83 finished with value: 0.7524390243902439 and parameters: {'classifier': 'RandomForest', 'n_estimators': 1450, 'max_depth': 13.737082341605909}. Best is trial 46 with value: 0.7589430894308943.\u001b[0m\n",
      "\u001b[32m[I 2022-01-10 20:51:58,211]\u001b[0m Trial 84 finished with value: 0.7491710505340348 and parameters: {'classifier': 'RandomForest', 'n_estimators': 1630, 'max_depth': 71.05125992117985}. Best is trial 46 with value: 0.7589430894308943.\u001b[0m\n",
      "\u001b[32m[I 2022-01-10 20:52:00,318]\u001b[0m Trial 85 finished with value: 0.7540650406504065 and parameters: {'classifier': 'RandomForest', 'n_estimators': 1070, 'max_depth': 76.86318285958535}. Best is trial 46 with value: 0.7589430894308943.\u001b[0m\n",
      "\u001b[32m[I 2022-01-10 20:52:03,359]\u001b[0m Trial 86 finished with value: 0.7475370636059302 and parameters: {'classifier': 'RandomForest', 'n_estimators': 1550, 'max_depth': 30.652509655298374}. Best is trial 46 with value: 0.7589430894308943.\u001b[0m\n",
      "\u001b[32m[I 2022-01-10 20:52:05,783]\u001b[0m Trial 87 finished with value: 0.7524390243902439 and parameters: {'classifier': 'RandomForest', 'n_estimators': 1220, 'max_depth': 47.508931562168364}. Best is trial 46 with value: 0.7589430894308943.\u001b[0m\n",
      "\u001b[32m[I 2022-01-10 20:52:08,435]\u001b[0m Trial 88 finished with value: 0.7524310537223019 and parameters: {'classifier': 'RandomForest', 'n_estimators': 1360, 'max_depth': 26.720797511649224}. Best is trial 46 with value: 0.7589430894308943.\u001b[0m\n",
      "\u001b[32m[I 2022-01-10 20:52:10,176]\u001b[0m Trial 89 finished with value: 0.75242308305436 and parameters: {'classifier': 'RandomForest', 'n_estimators': 890, 'max_depth': 83.63100855936831}. Best is trial 46 with value: 0.7589430894308943.\u001b[0m\n",
      "\u001b[32m[I 2022-01-10 20:52:12,533]\u001b[0m Trial 90 finished with value: 0.7556910569105691 and parameters: {'classifier': 'RandomForest', 'n_estimators': 1190, 'max_depth': 54.193570600530336}. Best is trial 46 with value: 0.7589430894308943.\u001b[0m\n",
      "\u001b[32m[I 2022-01-10 20:52:15,353]\u001b[0m Trial 91 finished with value: 0.7475530049418141 and parameters: {'classifier': 'RandomForest', 'n_estimators': 1430, 'max_depth': 53.68843197257792}. Best is trial 46 with value: 0.7589430894308943.\u001b[0m\n",
      "\u001b[32m[I 2022-01-10 20:52:15,815]\u001b[0m Trial 92 finished with value: 0.7508130081300813 and parameters: {'classifier': 'RandomForest', 'n_estimators': 220, 'max_depth': 65.03832188602729}. Best is trial 46 with value: 0.7589430894308943.\u001b[0m\n",
      "\u001b[32m[I 2022-01-10 20:52:18,140]\u001b[0m Trial 93 finished with value: 0.7524310537223019 and parameters: {'classifier': 'RandomForest', 'n_estimators': 1180, 'max_depth': 86.37144585376447}. Best is trial 46 with value: 0.7589430894308943.\u001b[0m\n",
      "\u001b[32m[I 2022-01-10 20:52:20,907]\u001b[0m Trial 94 finished with value: 0.7524390243902439 and parameters: {'classifier': 'RandomForest', 'n_estimators': 1370, 'max_depth': 57.42235033324133}. Best is trial 46 with value: 0.7589430894308943.\u001b[0m\n",
      "\u001b[32m[I 2022-01-10 20:52:24,870]\u001b[0m Trial 95 finished with value: 0.7524390243902439 and parameters: {'classifier': 'RandomForest', 'n_estimators': 2000, 'max_depth': 71.2100126737831}. Best is trial 46 with value: 0.7589430894308943.\u001b[0m\n",
      "\u001b[32m[I 2022-01-10 20:52:24,914]\u001b[0m Trial 96 finished with value: 0.640068547744301 and parameters: {'classifier': 'SVC', 'svc_c': 118032.59779352027}. Best is trial 46 with value: 0.7589430894308943.\u001b[0m\n",
      "\u001b[32m[I 2022-01-10 20:52:26,097]\u001b[0m Trial 97 finished with value: 0.7556830862426271 and parameters: {'classifier': 'RandomForest', 'n_estimators': 570, 'max_depth': 10.673028111872588}. Best is trial 46 with value: 0.7589430894308943.\u001b[0m\n",
      "\u001b[32m[I 2022-01-10 20:52:27,304]\u001b[0m Trial 98 finished with value: 0.7507970667941973 and parameters: {'classifier': 'RandomForest', 'n_estimators': 590, 'max_depth': 10.657709983308013}. Best is trial 46 with value: 0.7589430894308943.\u001b[0m\n",
      "\u001b[32m[I 2022-01-10 20:52:28,534]\u001b[0m Trial 99 finished with value: 0.7491710505340348 and parameters: {'classifier': 'RandomForest', 'n_estimators': 540, 'max_depth': 16.923614801046718}. Best is trial 46 with value: 0.7589430894308943.\u001b[0m\n"
     ]
    },
    {
     "name": "stdout",
     "output_type": "stream",
     "text": [
      "Accuracy: 0.7589430894308943\n",
      "Best hyperparameters: {'classifier': 'RandomForest', 'n_estimators': 1340, 'max_depth': 82.71735597306764}\n"
     ]
    }
   ],
   "source": [
    "study = optuna.create_study(direction='maximize')\n",
    "study.optimize(objective, n_trials=100)\n",
    "\n",
    "trial = study.best_trial\n",
    "\n",
    "print('Accuracy: {}'.format(trial.value))\n",
    "print(\"Best hyperparameters: {}\".format(trial.params))"
   ]
  },
  {
   "cell_type": "code",
   "execution_count": 52,
   "id": "a2b54750",
   "metadata": {},
   "outputs": [
    {
     "data": {
      "text/plain": [
       "FrozenTrial(number=46, values=[0.7589430894308943], datetime_start=datetime.datetime(2022, 1, 10, 20, 50, 19, 184573), datetime_complete=datetime.datetime(2022, 1, 10, 20, 50, 21, 822943), params={'classifier': 'RandomForest', 'n_estimators': 1340, 'max_depth': 82.71735597306764}, distributions={'classifier': CategoricalDistribution(choices=('RandomForest', 'SVC')), 'n_estimators': IntUniformDistribution(high=2000, low=200, step=10), 'max_depth': LogUniformDistribution(high=100.0, low=10.0)}, user_attrs={}, system_attrs={}, intermediate_values={}, trial_id=46, state=TrialState.COMPLETE, value=None)"
      ]
     },
     "execution_count": 52,
     "metadata": {},
     "output_type": "execute_result"
    }
   ],
   "source": [
    "trial"
   ]
  },
  {
   "cell_type": "code",
   "execution_count": 53,
   "id": "d43cf8f3",
   "metadata": {},
   "outputs": [
    {
     "data": {
      "text/plain": [
       "{'classifier': 'RandomForest',\n",
       " 'n_estimators': 1340,\n",
       " 'max_depth': 82.71735597306764}"
      ]
     },
     "execution_count": 53,
     "metadata": {},
     "output_type": "execute_result"
    }
   ],
   "source": [
    "study.best_params"
   ]
  },
  {
   "cell_type": "code",
   "execution_count": 54,
   "id": "05cf7929",
   "metadata": {},
   "outputs": [
    {
     "data": {
      "text/plain": [
       "RandomForestClassifier(max_depth=30, n_estimators=330)"
      ]
     },
     "execution_count": 54,
     "metadata": {},
     "output_type": "execute_result"
    }
   ],
   "source": [
    "rf=RandomForestClassifier(n_estimators=330,max_depth=30)\n",
    "rf.fit(X_train,y_train)"
   ]
  },
  {
   "cell_type": "code",
   "execution_count": 55,
   "id": "940c8734",
   "metadata": {},
   "outputs": [
    {
     "name": "stdout",
     "output_type": "stream",
     "text": [
      "[[95 12]\n",
      " [18 29]]\n",
      "0.8051948051948052\n",
      "              precision    recall  f1-score   support\n",
      "\n",
      "           0       0.84      0.89      0.86       107\n",
      "           1       0.71      0.62      0.66        47\n",
      "\n",
      "    accuracy                           0.81       154\n",
      "   macro avg       0.77      0.75      0.76       154\n",
      "weighted avg       0.80      0.81      0.80       154\n",
      "\n"
     ]
    }
   ],
   "source": [
    "y_pred=rf.predict(X_test)\n",
    "print(confusion_matrix(y_test,y_pred))\n",
    "print(accuracy_score(y_test,y_pred))\n",
    "print(classification_report(y_test,y_pred))"
   ]
  },
  {
   "cell_type": "code",
   "execution_count": null,
   "id": "3564a8d9",
   "metadata": {},
   "outputs": [],
   "source": []
  },
  {
   "cell_type": "code",
   "execution_count": null,
   "id": "449f2c8b",
   "metadata": {},
   "outputs": [],
   "source": []
  },
  {
   "cell_type": "code",
   "execution_count": null,
   "id": "6ae2bec3",
   "metadata": {},
   "outputs": [],
   "source": []
  }
 ],
 "metadata": {
  "kernelspec": {
   "display_name": "Python 3",
   "language": "python",
   "name": "python3"
  },
  "language_info": {
   "codemirror_mode": {
    "name": "ipython",
    "version": 3
   },
   "file_extension": ".py",
   "mimetype": "text/x-python",
   "name": "python",
   "nbconvert_exporter": "python",
   "pygments_lexer": "ipython3",
   "version": "3.8.8"
  }
 },
 "nbformat": 4,
 "nbformat_minor": 5
}
